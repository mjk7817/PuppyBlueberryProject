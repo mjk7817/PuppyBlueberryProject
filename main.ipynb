{
  "nbformat": 4,
  "nbformat_minor": 0,
  "metadata": {
    "colab": {
      "name": "main.ipynb",
      "provenance": [],
      "collapsed_sections": [],
      "toc_visible": true,
      "authorship_tag": "ABX9TyPWZlKg5FvfAblKTiP2smiE",
      "include_colab_link": true
    },
    "kernelspec": {
      "name": "python3",
      "display_name": "Python 3"
    },
    "language_info": {
      "name": "python"
    }
  },
  "cells": [
    {
      "cell_type": "markdown",
      "metadata": {
        "id": "view-in-github",
        "colab_type": "text"
      },
      "source": [
        "<a href=\"https://colab.research.google.com/github/mjk7817/PuppyBlueberryProject/blob/main/main.ipynb\" target=\"_parent\"><img src=\"https://colab.research.google.com/assets/colab-badge.svg\" alt=\"Open In Colab\"/></a>"
      ]
    },
    {
      "cell_type": "code",
      "execution_count": 1,
      "metadata": {
        "colab": {
          "base_uri": "https://localhost:8080/"
        },
        "id": "kzCV8OAxBNsW",
        "outputId": "8578da5c-8aac-42fb-fea5-1dc87d9fb62b"
      },
      "outputs": [
        {
          "output_type": "stream",
          "name": "stdout",
          "text": [
            "Collecting torch==1.4\n",
            "  Downloading torch-1.4.0-cp37-cp37m-manylinux1_x86_64.whl (753.4 MB)\n",
            "\u001b[K     |████████████████████████████████| 753.4 MB 6.3 kB/s \n",
            "\u001b[?25hCollecting torchvision==0.5.0\n",
            "  Downloading torchvision-0.5.0-cp37-cp37m-manylinux1_x86_64.whl (4.0 MB)\n",
            "\u001b[K     |████████████████████████████████| 4.0 MB 49.2 MB/s \n",
            "\u001b[?25hRequirement already satisfied: numpy in /usr/local/lib/python3.7/dist-packages (from torchvision==0.5.0) (1.19.5)\n",
            "Requirement already satisfied: six in /usr/local/lib/python3.7/dist-packages (from torchvision==0.5.0) (1.15.0)\n",
            "Requirement already satisfied: pillow>=4.1.1 in /usr/local/lib/python3.7/dist-packages (from torchvision==0.5.0) (7.1.2)\n",
            "Installing collected packages: torch, torchvision\n",
            "  Attempting uninstall: torch\n",
            "    Found existing installation: torch 1.10.0+cu111\n",
            "    Uninstalling torch-1.10.0+cu111:\n",
            "      Successfully uninstalled torch-1.10.0+cu111\n",
            "  Attempting uninstall: torchvision\n",
            "    Found existing installation: torchvision 0.11.1+cu111\n",
            "    Uninstalling torchvision-0.11.1+cu111:\n",
            "      Successfully uninstalled torchvision-0.11.1+cu111\n",
            "\u001b[31mERROR: pip's dependency resolver does not currently take into account all the packages that are installed. This behaviour is the source of the following dependency conflicts.\n",
            "torchtext 0.11.0 requires torch==1.10.0, but you have torch 1.4.0 which is incompatible.\n",
            "torchaudio 0.10.0+cu111 requires torch==1.10.0, but you have torch 1.4.0 which is incompatible.\u001b[0m\n",
            "Successfully installed torch-1.4.0 torchvision-0.5.0\n"
          ]
        }
      ],
      "source": [
        "!pip install \"torch==1.4\" \"torchvision==0.5.0\""
      ]
    },
    {
      "cell_type": "markdown",
      "source": [
        "Above code handles installing pytorch to collab system"
      ],
      "metadata": {
        "id": "YHc3sADRFG8d"
      }
    },
    {
      "cell_type": "code",
      "source": [
        "from fastai.vision import *\n",
        "from fastai.metrics import error_rate\n",
        "# import fastai libraries for computer vision and error rate algorithms (built in)"
      ],
      "metadata": {
        "id": "f_dLebIoFMb_"
      },
      "execution_count": 2,
      "outputs": []
    },
    {
      "cell_type": "code",
      "source": [
        "# connect Google Drive to Notebook \n",
        "\n",
        "from google.colab import drive \n",
        "drive.mount('/content/drive')"
      ],
      "metadata": {
        "colab": {
          "base_uri": "https://localhost:8080/"
        },
        "id": "SnNzdL9zGeax",
        "outputId": "05cac9c0-a015-49d7-daa6-ecd0f5c64e16"
      },
      "execution_count": 3,
      "outputs": [
        {
          "output_type": "stream",
          "name": "stdout",
          "text": [
            "Mounted at /content/drive\n"
          ]
        }
      ]
    },
    {
      "cell_type": "code",
      "source": [
        "path = Path('drive/My Drive/archive')"
      ],
      "metadata": {
        "id": "xixy9MvqItCD"
      },
      "execution_count": 4,
      "outputs": []
    },
    {
      "cell_type": "code",
      "source": [
        "fnames = get_image_files(path)"
      ],
      "metadata": {
        "id": "aK47qIEgIxeU"
      },
      "execution_count": 5,
      "outputs": []
    },
    {
      "cell_type": "code",
      "source": [
        "fnames"
      ],
      "metadata": {
        "colab": {
          "base_uri": "https://localhost:8080/"
        },
        "id": "wXL6_OWLI5L6",
        "outputId": "787b0b53-1668-4c6e-e86e-6688ccb74671"
      },
      "execution_count": 6,
      "outputs": [
        {
          "output_type": "execute_result",
          "data": {
            "text/plain": [
              "[PosixPath('drive/My Drive/archive/muffin-2.jpeg'),\n",
              " PosixPath('drive/My Drive/archive/muffin-4.jpeg'),\n",
              " PosixPath('drive/My Drive/archive/chihuahua-5.jpg'),\n",
              " PosixPath('drive/My Drive/archive/muffin-1.jpeg'),\n",
              " PosixPath('drive/My Drive/archive/chihuahua-1.jpg'),\n",
              " PosixPath('drive/My Drive/archive/muffin-8.jpeg'),\n",
              " PosixPath('drive/My Drive/archive/muffin-5.jpeg'),\n",
              " PosixPath('drive/My Drive/archive/muffin-6.jpeg'),\n",
              " PosixPath('drive/My Drive/archive/muffin-7.jpeg'),\n",
              " PosixPath('drive/My Drive/archive/chihuahua-8.jpg'),\n",
              " PosixPath('drive/My Drive/archive/muffin-3.jpeg'),\n",
              " PosixPath('drive/My Drive/archive/chihuahua-7.jpg'),\n",
              " PosixPath('drive/My Drive/archive/chihuahua-2.jpg'),\n",
              " PosixPath('drive/My Drive/archive/chihuahua-6.jpg'),\n",
              " PosixPath('drive/My Drive/archive/chihuahua-4.jpg'),\n",
              " PosixPath('drive/My Drive/archive/chihuahua-3.jpg')]"
            ]
          },
          "metadata": {},
          "execution_count": 6
        }
      ]
    }
  ]
}